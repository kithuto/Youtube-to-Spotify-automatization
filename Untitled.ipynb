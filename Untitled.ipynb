{
 "cells": [
  {
   "cell_type": "code",
   "execution_count": 1,
   "id": "every-setup",
   "metadata": {},
   "outputs": [],
   "source": [
    "from requests import get"
   ]
  },
  {
   "cell_type": "code",
   "execution_count": 5,
   "id": "controlling-worse",
   "metadata": {},
   "outputs": [],
   "source": [
    "chunck_size = 256"
   ]
  },
  {
   "cell_type": "code",
   "execution_count": 6,
   "id": "committed-picking",
   "metadata": {},
   "outputs": [],
   "source": [
    "url = 'https://m60.uqload.com/3rfkswxsdrw2q4drdja7bmnvdskbijugtltwxfvqdhc3ttlxs7orjnza67wa/v.mp4'"
   ]
  },
  {
   "cell_type": "code",
   "execution_count": 7,
   "id": "prescribed-focus",
   "metadata": {},
   "outputs": [],
   "source": [
    "r = get(url, stream = True)"
   ]
  },
  {
   "cell_type": "code",
   "execution_count": 8,
   "id": "lucky-preview",
   "metadata": {},
   "outputs": [],
   "source": [
    "with open(\"karate kid.mp4\", \"wb\") as f:\n",
    "    for chunk in r.iter_content(chunk_size=chunck_size):\n",
    "        f.write(chunk)"
   ]
  }
 ],
 "metadata": {
  "kernelspec": {
   "display_name": "Python 3",
   "language": "python",
   "name": "python3"
  },
  "language_info": {
   "codemirror_mode": {
    "name": "ipython",
    "version": 3
   },
   "file_extension": ".py",
   "mimetype": "text/x-python",
   "name": "python",
   "nbconvert_exporter": "python",
   "pygments_lexer": "ipython3",
   "version": "3.7.9-final"
  }
 },
 "nbformat": 4,
 "nbformat_minor": 5
}